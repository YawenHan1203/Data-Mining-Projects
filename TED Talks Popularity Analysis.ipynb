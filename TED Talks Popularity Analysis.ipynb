{
 "cells": [
  {
   "cell_type": "markdown",
   "metadata": {},
   "source": [
    "# TED Talks Popularity Analysis "
   ]
  },
  {
   "cell_type": "markdown",
   "metadata": {},
   "source": [
    "Yawen Han\n",
    "\n",
    "Feb 7th, 2018\n",
    "\n",
    "TED is a nonprofit organization devoted to spreading ideas, usually in the form of short, powerful talks with a time restriction of 18 minutes. It aims to provide a platform for thinkers, visionaries and teachers, so that people around the globe can gain a better understanding of the biggest issues faced by the world, and feed a desire to help create a better future. From 2006 up to now, thousands of great TED Talks videos have been published to spread great ideas and change the world. Many factors can amplify the power of ideas: the duration of the videos, the occupation of speakers, the available languages related, the published time, etc. The objective of this report is to explore the related factors that might influence the popularity of TED talks and how these factors influence the popularity."
   ]
  },
  {
   "cell_type": "markdown",
   "metadata": {},
   "source": [
    "### Dataset Overview "
   ]
  },
  {
   "cell_type": "markdown",
   "metadata": {},
   "source": [
    "The dataset used in this report is the \"ted_main\" dataset that has been collected regarding \"TED Talks\" at Kaggle. This dataset contains information about all audio-video recordings of TED Talks published to the official TED.com website until September 21st, 2017. It contains information about all talks including name, title, main_speaker, speaker_occupation, duration, film_date, published_date, languages, views, etc."
   ]
  },
  {
   "cell_type": "code",
   "execution_count": 1,
   "metadata": {},
   "outputs": [],
   "source": [
    "#Loading several helpful packages\n",
    "%matplotlib inline\n",
    "import numpy as np\n",
    "import pandas as pd\n",
    "import matplotlib.pyplot as plt\n",
    "import datetime\n",
    "import seaborn as sns\n",
    "import re\n",
    "#Loading data\n",
    "ted = pd.read_csv('/Users/yawenhan/Documents/Python/ted_main.csv')\n",
    "# Reorder the columns into a more readable format\n",
    "ted=ted[['name', 'title', 'description', 'main_speaker', 'speaker_occupation', 'num_speaker', 'duration', 'event', 'film_date', 'published_date', 'comments', 'tags', 'languages', 'ratings', 'related_talks', 'url', 'views']]\n",
    "# Change the expression of film date and published date into a easier readable format\n",
    "ted['film_date'] = ted['film_date'].apply(lambda x: datetime.datetime.fromtimestamp( int(x)).strftime('%d-%m-%Y'))\n",
    "ted['published_date'] = ted['published_date'].apply(lambda x: datetime.datetime.fromtimestamp( int(x)).strftime('%d-%m-%Y'))"
   ]
  },
  {
   "cell_type": "markdown",
   "metadata": {},
   "source": [
    "To find out the relationship between popularity of talks and various other factors. It is supposed that the popularity of a talk is represented by its total number of views. First, find out the basic information of the dataset. "
   ]
  },
  {
   "cell_type": "code",
   "execution_count": 2,
   "metadata": {},
   "outputs": [
    {
     "name": "stdout",
     "output_type": "stream",
     "text": [
      "The total number of TED Talks is 2550\n"
     ]
    }
   ],
   "source": [
    "# Find out the basic information of the dataset\n",
    "print('The total number of TED Talks is {}'.format(ted.shape[0]))"
   ]
  },
  {
   "cell_type": "markdown",
   "metadata": {},
   "source": [
    "It indicates that there are 2550 talks have ever been posted on the TED Platform until September 21, 2017. Next, find out the 10 most popular TED talks with the top 10 total number of views."
   ]
  },
  {
   "cell_type": "code",
   "execution_count": 3,
   "metadata": {},
   "outputs": [
    {
     "data": {
      "text/html": [
       "<div>\n",
       "<style>\n",
       "    .dataframe thead tr:only-child th {\n",
       "        text-align: right;\n",
       "    }\n",
       "\n",
       "    .dataframe thead th {\n",
       "        text-align: left;\n",
       "    }\n",
       "\n",
       "    .dataframe tbody tr th {\n",
       "        vertical-align: top;\n",
       "    }\n",
       "</style>\n",
       "<table border=\"1\" class=\"dataframe\">\n",
       "  <thead>\n",
       "    <tr style=\"text-align: right;\">\n",
       "      <th></th>\n",
       "      <th>title</th>\n",
       "      <th>main_speaker</th>\n",
       "      <th>published_date</th>\n",
       "      <th>views</th>\n",
       "    </tr>\n",
       "  </thead>\n",
       "  <tbody>\n",
       "    <tr>\n",
       "      <th>0</th>\n",
       "      <td>Do schools kill creativity?</td>\n",
       "      <td>Ken Robinson</td>\n",
       "      <td>26-06-2006</td>\n",
       "      <td>47227110</td>\n",
       "    </tr>\n",
       "    <tr>\n",
       "      <th>1346</th>\n",
       "      <td>Your body language may shape who you are</td>\n",
       "      <td>Amy Cuddy</td>\n",
       "      <td>01-10-2012</td>\n",
       "      <td>43155405</td>\n",
       "    </tr>\n",
       "    <tr>\n",
       "      <th>677</th>\n",
       "      <td>How great leaders inspire action</td>\n",
       "      <td>Simon Sinek</td>\n",
       "      <td>04-05-2010</td>\n",
       "      <td>34309432</td>\n",
       "    </tr>\n",
       "    <tr>\n",
       "      <th>837</th>\n",
       "      <td>The power of vulnerability</td>\n",
       "      <td>Bren�� Brown</td>\n",
       "      <td>23-12-2010</td>\n",
       "      <td>31168150</td>\n",
       "    </tr>\n",
       "    <tr>\n",
       "      <th>452</th>\n",
       "      <td>10 things you didn't know about orgasm</td>\n",
       "      <td>Mary Roach</td>\n",
       "      <td>19-05-2009</td>\n",
       "      <td>22270883</td>\n",
       "    </tr>\n",
       "    <tr>\n",
       "      <th>1776</th>\n",
       "      <td>How to speak so that people want to listen</td>\n",
       "      <td>Julian Treasure</td>\n",
       "      <td>27-06-2014</td>\n",
       "      <td>21594632</td>\n",
       "    </tr>\n",
       "    <tr>\n",
       "      <th>201</th>\n",
       "      <td>My stroke of insight</td>\n",
       "      <td>Jill Bolte Taylor</td>\n",
       "      <td>11-03-2008</td>\n",
       "      <td>21190883</td>\n",
       "    </tr>\n",
       "    <tr>\n",
       "      <th>5</th>\n",
       "      <td>Why we do what we do</td>\n",
       "      <td>Tony Robbins</td>\n",
       "      <td>27-06-2006</td>\n",
       "      <td>20685401</td>\n",
       "    </tr>\n",
       "    <tr>\n",
       "      <th>2114</th>\n",
       "      <td>This is what happens when you reply to spam email</td>\n",
       "      <td>James Veitch</td>\n",
       "      <td>08-01-2016</td>\n",
       "      <td>20475972</td>\n",
       "    </tr>\n",
       "    <tr>\n",
       "      <th>1416</th>\n",
       "      <td>Looks aren't everything. Believe me, I'm a model.</td>\n",
       "      <td>Cameron Russell</td>\n",
       "      <td>16-01-2013</td>\n",
       "      <td>19787465</td>\n",
       "    </tr>\n",
       "  </tbody>\n",
       "</table>\n",
       "</div>"
      ],
      "text/plain": [
       "                                                  title       main_speaker  \\\n",
       "0                           Do schools kill creativity?       Ken Robinson   \n",
       "1346           Your body language may shape who you are          Amy Cuddy   \n",
       "677                    How great leaders inspire action        Simon Sinek   \n",
       "837                          The power of vulnerability       Bren�� Brown   \n",
       "452              10 things you didn't know about orgasm         Mary Roach   \n",
       "1776         How to speak so that people want to listen    Julian Treasure   \n",
       "201                                My stroke of insight  Jill Bolte Taylor   \n",
       "5                                  Why we do what we do       Tony Robbins   \n",
       "2114  This is what happens when you reply to spam email       James Veitch   \n",
       "1416  Looks aren't everything. Believe me, I'm a model.    Cameron Russell   \n",
       "\n",
       "     published_date     views  \n",
       "0        26-06-2006  47227110  \n",
       "1346     01-10-2012  43155405  \n",
       "677      04-05-2010  34309432  \n",
       "837      23-12-2010  31168150  \n",
       "452      19-05-2009  22270883  \n",
       "1776     27-06-2014  21594632  \n",
       "201      11-03-2008  21190883  \n",
       "5        27-06-2006  20685401  \n",
       "2114     08-01-2016  20475972  \n",
       "1416     16-01-2013  19787465  "
      ]
     },
     "execution_count": 3,
     "metadata": {},
     "output_type": "execute_result"
    }
   ],
   "source": [
    "# Top 10 popular TED talks\n",
    "pop_talks=ted[['title','main_speaker','published_date','views']].sort_values('views', ascending=False)[:10]\n",
    "pop_talks"
   ]
  },
  {
   "cell_type": "markdown",
   "metadata": {},
   "source": [
    "From the above table, Ken Robinson's talk on \"Do Schools Kill Creativity?\" is the most popular TED Talk with 47.2 million views. It's interesting to learn that it's the oldest video in published date in all 10 videos. Moreover, 8 out of 10 movies are published before year 2012, so published date might be a factor that related to total number of views. This also works on common sense as more probability been viewed with a longer published time. The relationship between popularity and published date will be discussed later in this report. Finally, investigate the summary statistics and the distribution of the views garnered on various TED Talks. To summarize the statistics of the views, the Five-Number Summary and plotbox is given below."
   ]
  },
  {
   "cell_type": "code",
   "execution_count": 4,
   "metadata": {},
   "outputs": [
    {
     "name": "stdout",
     "output_type": "stream",
     "text": [
      "count    2.550000e+03\n",
      "mean     1.698297e+06\n",
      "std      2.498479e+06\n",
      "min      5.044300e+04\n",
      "25%      7.557928e+05\n",
      "50%      1.124524e+06\n",
      "75%      1.700760e+06\n",
      "max      4.722711e+07\n",
      "Name: views, dtype: float64\n"
     ]
    }
   ],
   "source": [
    "# Find out the summary statistics of the views on all TED talks\n",
    "print(ted['views'].describe())"
   ]
  },
  {
   "cell_type": "markdown",
   "metadata": {},
   "source": [
    "The average number of views on TED Talks in 1.6 million, and the median number of views is 1.12 million. This suggests a very high average level of popularity of TED Talks. Additionally, it is noticed that 75% talks have views less than 1.8 million, so 3 million is used as the cutoff point to delete outliers when constructing boxplot and distribution plot."
   ]
  },
  {
   "cell_type": "code",
   "execution_count": 5,
   "metadata": {},
   "outputs": [
    {
     "name": "stdout",
     "output_type": "stream",
     "text": [
      "The number of extreme high level popularity TED talks is 299\n",
      "The percentage of these outliers is 11.73%\n"
     ]
    },
    {
     "data": {
      "image/png": "[encoded data removed]",
      "text/plain": [
       "<matplotlib.figure.Figure at 0x112155e90>"
      ]
     },
     "metadata": {},
     "output_type": "display_data"
    }
   ],
   "source": [
    "plt.figure(figsize=(8,4))\n",
    "ax=sns.boxplot(x=ted[ted['views']<3e6]['views'])\n",
    "print('The number of extreme high level popularity TED talks is {}'.format(ted[ted['views']>2.7e6]['views'].count()))\n",
    "print('The percentage of these outliers is {0:.2f}%'.format(100.0*(ted[ted['views']>2.7e6]['views'].count())/2550.0))"
   ]
  },
  {
   "cell_type": "markdown",
   "metadata": {},
   "source": [
    "From the boxplot above, the 25%-75% of views does not have the interquartile range less than 1 million, which is much smaller than the sample range. The sample range is really big with lots of outliers on the right side, indicating some extremely high level of popularity of TED Talks. It is observed that the cutoff point for outliers is around 2.7 million, and the number of outliers is 299 with a percentage of 11.73%. In addition, it is clearly showed that 'views' is not symmetrically distributed and might right skewed from the boxplot. This conclusion can be checked with the distribution plot below."
   ]
  },
  {
   "cell_type": "code",
   "execution_count": 6,
   "metadata": {},
   "outputs": [
    {
     "data": {
      "text/plain": [
       "<matplotlib.axes._subplots.AxesSubplot at 0x111b6bd50>"
      ]
     },
     "execution_count": 6,
     "metadata": {},
     "output_type": "execute_result"
    },
    {
     "data": {
      "image/png": "[encoded data removed]",
      "text/plain": [
       "<matplotlib.figure.Figure at 0x112155590>"
      ]
     },
     "metadata": {},
     "output_type": "display_data"
    }
   ],
   "source": [
    "# Ignoring the influence of extreme value, and have a closer look of the distribution\n",
    "plt.figure(figsize=(8,4))\n",
    "sns.distplot(ted[ted['views']<3e6]['views'])"
   ]
  },
  {
   "cell_type": "markdown",
   "metadata": {},
   "source": [
    "Based on the observations above, there is a very high average level of popularity of TED Talks around 1.6 million views for the past of years. Most of the videos had a relatively stable views around 1.2 million, while nearly 12% of videos had an extremely high view that more than 3 million. If simply predicting the popularity of TED Talks in the future by the past data, it can be concluded that the TED Talks will still have a high-level popularity around 1.5 million, but maybe 10% percent of them will have an extremely high view that more than 3 million."
   ]
  },
  {
   "cell_type": "markdown",
   "metadata": {},
   "source": [
    "### Popularity and Duration/Languages"
   ]
  },
  {
   "cell_type": "markdown",
   "metadata": {},
   "source": [
    "In this section, the relationship between popularity (total number of views) and duration/languages will be explored. Duration is one remarkable aspect of TED Talks, as TED is famous for imposing a time limit of 18 minutes for each talk. Some very basic data visualization and descriptive statistics about the relationship between the popularity of talks and the length of the talks are shown below:"
   ]
  },
  {
   "cell_type": "code",
   "execution_count": 7,
   "metadata": {},
   "outputs": [
    {
     "data": {
      "text/plain": [
       "<seaborn.axisgrid.JointGrid at 0x1126a58d0>"
      ]
     },
     "execution_count": 7,
     "metadata": {},
     "output_type": "execute_result"
    },
    {
     "data": {
      "image/png": "[encoded data removed]",
      "text/plain": [
       "<matplotlib.figure.Figure at 0x1126a5810>"
      ]
     },
     "metadata": {},
     "output_type": "display_data"
    }
   ],
   "source": [
    "# Use scatterplot to check if number of views is correlated with duration\n",
    "ted['duration']=ted['duration']/60 #convert from seconds to minutes\n",
    "sns.jointplot(x=ted['duration'],y=ted['views'])\n",
    "#plt.figure(figsize=(5,5))\n",
    "#plt.scatter(ted['duration'], ted['views'], alpha=0.5)\n",
    "#plt.show()"
   ]
  },
  {
   "cell_type": "markdown",
   "metadata": {},
   "source": [
    "As the scatterplot above shows, there seems to be almost no correlation between these two factors. Considering TED talks have a time limit around 18 minutes, the videos that have a duration more than 30 minutes are considered from external resources instead of real TED talks. Therefore, the duration that more than 30 minutes can be viewed as outliers. Try to do the scatterplot again, and evaluate the result."
   ]
  },
  {
   "cell_type": "code",
   "execution_count": 8,
   "metadata": {},
   "outputs": [
    {
     "data": {
      "text/plain": [
       "<seaborn.axisgrid.JointGrid at 0x111b6b610>"
      ]
     },
     "execution_count": 8,
     "metadata": {},
     "output_type": "execute_result"
    },
    {
     "data": {
      "image/png": "[encoded data removed]",
      "text/plain": [
       "<matplotlib.figure.Figure at 0x112d82ad0>"
      ]
     },
     "metadata": {},
     "output_type": "display_data"
    }
   ],
   "source": [
    "# Redraw the scatter plot by removing the outliers\n",
    "ted_dur=ted[ted['duration']<=30]\n",
    "sns.jointplot(x=ted_dur['duration'],y=ted_dur['views'])\n",
    "#plt.figure(figsize=(5,5))\n",
    "#plt.scatter(ted_dur['duration'], ted_dur['views'], alpha=0.5)\n",
    "#plt.show()"
   ]
  },
  {
   "cell_type": "markdown",
   "metadata": {},
   "source": [
    "As the scatterplot above shows, it still represents no correlation between views and duration. The correlation coefficient will be calculated later for a more accurate conclusion. Apart from duration, the number of available languages is also considered as an implication of popularity. As the more languages accessible to this video, the larger chance it will be viewed by people from different culture.Some very basic data visualization and descriptive statistics about the relationship between the popularity of talks and available languages are shown below:"
   ]
  },
  {
   "cell_type": "code",
   "execution_count": 9,
   "metadata": {},
   "outputs": [
    {
     "data": {
      "text/plain": [
       "<seaborn.axisgrid.JointGrid at 0x117c30450>"
      ]
     },
     "execution_count": 9,
     "metadata": {},
     "output_type": "execute_result"
    },
    {
     "data": {
      "image/png": "[encoded data removed]",
      "text/plain": [
       "<matplotlib.figure.Figure at 0x117c303d0>"
      ]
     },
     "metadata": {},
     "output_type": "display_data"
    }
   ],
   "source": [
    "# Use scatterplot to check if number of views is correlated with available languages\n",
    "sns.jointplot(x=ted['languages'],y=ted['views'])\n",
    "#plt.figure(figsize=(5,5))\n",
    "#plt.scatter(ted['languages'], ted['views'], alpha=0.5)\n",
    "#plt.show()"
   ]
  },
  {
   "cell_type": "markdown",
   "metadata": {},
   "source": [
    "As the scatterplot above shows, it seems there is a positive correlation between views and languages. To have a more clear view of the correlation between the sets of three factors: views, duration and languages, a correlation matrix is built to see which pairs have the highest correlation. "
   ]
  },
  {
   "cell_type": "code",
   "execution_count": 10,
   "metadata": {},
   "outputs": [
    {
     "data": {
      "text/html": [
       "<div>\n",
       "<style>\n",
       "    .dataframe thead tr:only-child th {\n",
       "        text-align: right;\n",
       "    }\n",
       "\n",
       "    .dataframe thead th {\n",
       "        text-align: left;\n",
       "    }\n",
       "\n",
       "    .dataframe tbody tr th {\n",
       "        vertical-align: top;\n",
       "    }\n",
       "</style>\n",
       "<table border=\"1\" class=\"dataframe\">\n",
       "  <thead>\n",
       "    <tr style=\"text-align: right;\">\n",
       "      <th></th>\n",
       "      <th>duration</th>\n",
       "      <th>languages</th>\n",
       "      <th>views</th>\n",
       "    </tr>\n",
       "  </thead>\n",
       "  <tbody>\n",
       "    <tr>\n",
       "      <th>duration</th>\n",
       "      <td>1.000000</td>\n",
       "      <td>-0.255646</td>\n",
       "      <td>0.069243</td>\n",
       "    </tr>\n",
       "    <tr>\n",
       "      <th>languages</th>\n",
       "      <td>-0.255646</td>\n",
       "      <td>1.000000</td>\n",
       "      <td>0.378508</td>\n",
       "    </tr>\n",
       "    <tr>\n",
       "      <th>views</th>\n",
       "      <td>0.069243</td>\n",
       "      <td>0.378508</td>\n",
       "      <td>1.000000</td>\n",
       "    </tr>\n",
       "  </tbody>\n",
       "</table>\n",
       "</div>"
      ],
      "text/plain": [
       "           duration  languages     views\n",
       "duration   1.000000  -0.255646  0.069243\n",
       "languages -0.255646   1.000000  0.378508\n",
       "views      0.069243   0.378508  1.000000"
      ]
     },
     "execution_count": 10,
     "metadata": {},
     "output_type": "execute_result"
    }
   ],
   "source": [
    "ted_dur[['duration','languages','views']].corr()"
   ]
  },
  {
   "cell_type": "markdown",
   "metadata": {},
   "source": [
    "From the correlation matrix above, views and languages has the highest positive correlation of 0.38, suggesting a medium positive correlation between two quantities - as available languages increases so does the views. Other pairs seem has no correlation inside. Based on the observation above, it can be concluded that there is no correlation between the popularity of TED Talks and the duration, but there is a positive medium correlation between popularity and number available languages."
   ]
  },
  {
   "cell_type": "markdown",
   "metadata": {},
   "source": [
    "### Popularity and Speaker Occupation"
   ]
  },
  {
   "cell_type": "markdown",
   "metadata": {},
   "source": [
    "In this section, the relationship between popularity (total number of views) and speaker occupation will be explored. In TED talks, although the roster of presenters broadened to include scientists, philosophers, musicians, business and religious leaders, philanthropists and many others, it's interested to learn the speaker from which occupation that attracted more attention worldwide. Before tackling some basic data visualization about the relationship between the popularity of talks and speaker occupation, some data cleaning should be processed on 'speaker_occupation' column to group similar occupations together."
   ]
  },
  {
   "cell_type": "code",
   "execution_count": 11,
   "metadata": {},
   "outputs": [
    {
     "name": "stdout",
     "output_type": "stream",
     "text": [
      "Occupation numbers:1291\n"
     ]
    }
   ],
   "source": [
    "# Convert and group speaker occupation into tags\n",
    "ted['occupation_tag'] = ted['speaker_occupation'].apply(lambda x: str(x).lower().strip())\n",
    "# Manipulating singer/songwriter\n",
    "ted['occupation_tag'] = ted['occupation_tag'].str.replace('singer/songwriter', 'singer, songwriter')\n",
    "ted['occupation_tag'] = ted['occupation_tag'].str.replace('singer-songwriter', 'singer, songwriter')\n",
    "# Multiple occupations are expressed in ', ', '; ' or ' and '\n",
    "ted['occupation_tag'] = ted['occupation_tag'].apply(lambda x: re.split(',\\s|;\\s|\\sand\\s', x))\n",
    "# Assigning 'activist' label to all kinds of 'x activist'; same for 'x author', 'x writer', 'x artist'\n",
    "target = ['activist', 'author', 'writer', 'artist']\n",
    "def act_add(occ_list, target):\n",
    "    for word in target:\n",
    "        if occ_list.count(word) == 0:\n",
    "            for occ in occ_list:\n",
    "                if occ.count(' ' + word) > 0:\n",
    "                    occ_list.append(word)\n",
    "                    break\n",
    "    return occ_list\n",
    "ted['occupation_tag'] = ted['occupation_tag'].apply(lambda x: act_add(x, target))\n",
    "# Use the map to store total number of views corresponds to occupation\n",
    "all_views = {}\n",
    "i=-1\n",
    "for talk in ted['occupation_tag']:\n",
    "    i=i+1\n",
    "    for occupation in talk:   \n",
    "        if not occupation in all_views:\n",
    "            all_views[occupation] = ted['views'][i]\n",
    "        else:\n",
    "            all_views[occupation] += ted['views'][i]\n",
    "occ_df = pd.DataFrame.from_dict(all_views, orient = 'index').reset_index()\n",
    "occ_df.columns = ['Occupation','Views']\n",
    "jobs = occ_df.sort_values('Views', ascending=False)\n",
    "print('Occupation numbers:{}'.format(len(jobs['Occupation'])))"
   ]
  },
  {
   "cell_type": "markdown",
   "metadata": {},
   "source": [
    "According to the output above, the total number of occupation in records is more than 1000. To simplify the analysis process, only top 10 occupations with most views are chosen for analysis."
   ]
  },
  {
   "cell_type": "code",
   "execution_count": 12,
   "metadata": {},
   "outputs": [
    {
     "data": {
      "text/html": [
       "<div>\n",
       "<style>\n",
       "    .dataframe thead tr:only-child th {\n",
       "        text-align: right;\n",
       "    }\n",
       "\n",
       "    .dataframe thead th {\n",
       "        text-align: left;\n",
       "    }\n",
       "\n",
       "    .dataframe tbody tr th {\n",
       "        vertical-align: top;\n",
       "    }\n",
       "</style>\n",
       "<table border=\"1\" class=\"dataframe\">\n",
       "  <thead>\n",
       "    <tr style=\"text-align: right;\">\n",
       "      <th></th>\n",
       "      <th>Occupation</th>\n",
       "      <th>Views</th>\n",
       "    </tr>\n",
       "  </thead>\n",
       "  <tbody>\n",
       "    <tr>\n",
       "      <th>661</th>\n",
       "      <td>writer</td>\n",
       "      <td>270860018</td>\n",
       "    </tr>\n",
       "    <tr>\n",
       "      <th>425</th>\n",
       "      <td>activist</td>\n",
       "      <td>199983344</td>\n",
       "    </tr>\n",
       "    <tr>\n",
       "      <th>908</th>\n",
       "      <td>author</td>\n",
       "      <td>156684431</td>\n",
       "    </tr>\n",
       "    <tr>\n",
       "      <th>701</th>\n",
       "      <td>artist</td>\n",
       "      <td>150423291</td>\n",
       "    </tr>\n",
       "    <tr>\n",
       "      <th>48</th>\n",
       "      <td>psychologist</td>\n",
       "      <td>122295841</td>\n",
       "    </tr>\n",
       "    <tr>\n",
       "      <th>1135</th>\n",
       "      <td>entrepreneur</td>\n",
       "      <td>100180366</td>\n",
       "    </tr>\n",
       "    <tr>\n",
       "      <th>565</th>\n",
       "      <td>comedian</td>\n",
       "      <td>83100460</td>\n",
       "    </tr>\n",
       "    <tr>\n",
       "      <th>270</th>\n",
       "      <td>designer</td>\n",
       "      <td>76853348</td>\n",
       "    </tr>\n",
       "    <tr>\n",
       "      <th>582</th>\n",
       "      <td>educator</td>\n",
       "      <td>76582561</td>\n",
       "    </tr>\n",
       "    <tr>\n",
       "      <th>1086</th>\n",
       "      <td>journalist</td>\n",
       "      <td>74042387</td>\n",
       "    </tr>\n",
       "  </tbody>\n",
       "</table>\n",
       "</div>"
      ],
      "text/plain": [
       "        Occupation      Views\n",
       "661         writer  270860018\n",
       "425       activist  199983344\n",
       "908         author  156684431\n",
       "701         artist  150423291\n",
       "48    psychologist  122295841\n",
       "1135  entrepreneur  100180366\n",
       "565       comedian   83100460\n",
       "270       designer   76853348\n",
       "582       educator   76582561\n",
       "1086    journalist   74042387"
      ]
     },
     "execution_count": 12,
     "metadata": {},
     "output_type": "execute_result"
    }
   ],
   "source": [
    "topjobs=jobs.head(10)\n",
    "topjobs"
   ]
  },
  {
   "cell_type": "markdown",
   "metadata": {},
   "source": [
    "From the table above, writer is the most popular speaker occupation with more than 270 million views in total, and is the only one speaker occupation that exceeds 200 million views. In the top 5 popular speaker occupation, 3 occupations are from the Art background including writer, author and artist, which implies a possible audience tendency on Art field for TED talks. To compare the popularity among different occupation categories and the percentage of each category, a bar chart and a pie chart are built in top 10 popular occupations for further observation."
   ]
  },
  {
   "cell_type": "code",
   "execution_count": 13,
   "metadata": {},
   "outputs": [
    {
     "data": {
      "text/plain": [
       "<matplotlib.axes._subplots.AxesSubplot at 0x117fb8310>"
      ]
     },
     "execution_count": 13,
     "metadata": {},
     "output_type": "execute_result"
    },
    {
     "data": {
      "image/png": "[encoded data removed]",
      "text/plain": [
       "<matplotlib.figure.Figure at 0x118118210>"
      ]
     },
     "metadata": {},
     "output_type": "display_data"
    }
   ],
   "source": [
    "# Use bar chart to represent occupations with top 10 views\n",
    "jobs['Occupation'] = jobs['Occupation'].apply(lambda x: x[:10])\n",
    "plt.figure(figsize=(10,4))\n",
    "sns.barplot(x=topjobs['Occupation'],y=topjobs['Views'])"
   ]
  },
  {
   "cell_type": "code",
   "execution_count": 14,
   "metadata": {},
   "outputs": [
    {
     "data": {
      "image/png": "[encoded data removed]",
      "text/plain": [
       "<matplotlib.figure.Figure at 0x118207810>"
      ]
     },
     "metadata": {},
     "output_type": "display_data"
    },
    {
     "data": {
      "text/plain": [
       "<matplotlib.figure.Figure at 0x118103ed0>"
      ]
     },
     "metadata": {},
     "output_type": "display_data"
    }
   ],
   "source": [
    "# pie chart\n",
    "plt.pie(topjobs['Views'], labels=topjobs['Occupation'], startangle=90, autopct='%.1f%%')\n",
    "plt.axis('equal')\n",
    "plt.figure(figsize=(10,10))\n",
    "plt.show()"
   ]
  },
  {
   "cell_type": "markdown",
   "metadata": {},
   "source": [
    "From the bar chart and pie chart above, it clearly reflects the relative proportions popularity of different speaker occupations. Both charts readdressed the absolute popularity of writer with the percentage more than 20. The activist is the second popular speaker occupation, follows by author, artist, psychology, etc. There are only 4 occupations has more than 10 percentage, and 3 of them from Art field while 1 from Sociology field.\n",
    "\n",
    "According to the observations above, it can be concluded that most audiences have a preference for the speaker from the Art or Sociology background when they watching TED talks videos. Those TED Talks videos whose speaker are from Art or Sociology field are possibly more popular than others."
   ]
  },
  {
   "cell_type": "markdown",
   "metadata": {},
   "source": [
    "### Popularity with Published Year"
   ]
  },
  {
   "cell_type": "markdown",
   "metadata": {},
   "source": [
    "As stated above in overview: published date might be a factor that related to popularity(total number of views), and it also seems reasonable in a common sense. In this section, the relationship between popularity and published date will be discussed. Before tackling some basic data visualization, the data first be processed by extracting the year from the 'published_year' column and grouping the 'views' from same published year together. Then plot a line chart reflecting the change of total number of views from 1994-2016. (Deleting year 2017 as there is only half year of data collected for year 2017)"
   ]
  },
  {
   "cell_type": "code",
   "execution_count": 15,
   "metadata": {
    "scrolled": true
   },
   "outputs": [
    {
     "data": {
      "text/plain": [
       "<matplotlib.axes._subplots.AxesSubplot at 0x118232310>"
      ]
     },
     "execution_count": 15,
     "metadata": {},
     "output_type": "execute_result"
    },
    {
     "data": {
      "image/png": "[encoded data removed]",
      "text/plain": [
       "<matplotlib.figure.Figure at 0x1181180d0>"
      ]
     },
     "metadata": {},
     "output_type": "display_data"
    }
   ],
   "source": [
    "ted['year'] = ted['film_date'].apply(lambda x: x.split('-')[2])\n",
    "ted['year'] = map(int,ted['year'])\n",
    "year_list = range(2006, 2018)\n",
    "# Use the map to store total number of views corresponds to published year\n",
    "time_views = {}\n",
    "for time in year_list:\n",
    "    time_views[time] = 0\n",
    "    j=-1\n",
    "    for year in ted['year']: \n",
    "        j=j+1\n",
    "        if year==time:\n",
    "            time_views[time] += ted['views'][j]\n",
    "            \n",
    "year_df = pd.DataFrame.from_dict(time_views, orient = 'index').reset_index()\n",
    "year_df.columns = ['year','views']\n",
    "plt.figure(figsize=(15,6))\n",
    "sns.pointplot(x='year', y='views', data=year_df[year_df['year']<2017])"
   ]
  },
  {
   "cell_type": "markdown",
   "metadata": {},
   "source": [
    "From the line chart above, the number of views is kept increasing in year 2006-2013 and reaches the maximum value in year 2013, then have a little fall and keep constant at 400 million in year 2014-2016. Therefore, it might be interesting to know the reasons behind 2009 being the tipping point where the number of views increased more than twofold, and the reasons behind 2013 being the optimal point where get the maximum views. Additionally, If simply predicting the popularity of TED Talks in the future by the past data, the total number of views for next three years have a great possibility to be stable at 400 million."
   ]
  },
  {
   "cell_type": "markdown",
   "metadata": {},
   "source": [
    "### Reference"
   ]
  },
  {
   "cell_type": "markdown",
   "metadata": {},
   "source": [
    "https://www.kaggle.com/holfyuen/ted-talks-by-tags-and-speaker-occupation\n",
    "\n",
    "https://www.kaggle.com/rounakbanik/ted-data-analysis"
   ]
  },
  {
   "cell_type": "code",
   "execution_count": 16,
   "metadata": {},
   "outputs": [
    {
     "data": {
      "text/html": [
       "<button onclick=\"jQuery('.input_area').toggle(); jQuery('.prompt').toggle();\">Toggle code</button>"
      ]
     },
     "metadata": {},
     "output_type": "display_data"
    }
   ],
   "source": [
    "import IPython.core.display as di\n",
    "# This line will hide code by default when the notebook is exported as HTML\n",
    "#di.display_html('<script>jQuery(function() {if (jQuery(\"body.notebook_app\").length == 0) { jQuery(\".input_area\").toggle(); jQuery(\".prompt\").toggle();}});</script>', raw=True)\n",
    "# This line will add a button to toggle visibility of code blocks, for use with the HTML export version\n",
    "di.display_html('''<button onclick=\"jQuery('.input_area').toggle(); jQuery('.prompt').toggle();\">Toggle code</button>''', raw=True)"
   ]
  }
 ],
 "metadata": {
  "kernelspec": {
   "display_name": "Python 3",
   "language": "python",
   "name": "python3"
  },
  "language_info": {
   "codemirror_mode": {
    "name": "ipython",
    "version": 3
   },
   "file_extension": ".py",
   "mimetype": "text/x-python",
   "name": "python",
   "nbconvert_exporter": "python",
   "pygments_lexer": "ipython3",
   "version": "3.6.5"
  }
 },
 "nbformat": 4,
 "nbformat_minor": 2
}
