{
 "cells": [
  {
   "cell_type": "raw",
   "metadata": {},
   "source": [
    "## Initializing Centroids"
   ]
  },
  {
   "cell_type": "code",
   "execution_count": 1,
   "metadata": {},
   "outputs": [],
   "source": [
    "from math import sqrt, floor\n",
    "\n",
    "def initialize(ds, k):\n",
    "    '''\n",
    "    Create random cluster centroids\n",
    "    \n",
    "    Parameters:\n",
    "    -----------\n",
    "    ds: ndarray\n",
    "        Dataset to cluster instances from\n",
    "    k: int\n",
    "        The number of clusters\n",
    "    \n",
    "    Returns:\n",
    "    --------\n",
    "    ndarray\n",
    "        k centroids as numpy ndarray\n",
    "    '''\n",
    "    # Number of attributes in dataset\n",
    "    n = np.shape(ds)[1]    \n",
    "    # The centroids\n",
    "    centroids = np.mat(np.zeros((k,n)))\n",
    "    # Create random centroids (get min, max attribute values, randomize in that range)\n",
    "    for j in range(n):\n",
    "        min_j = min(ds[:,j])\n",
    "        range_j = float(max(ds[:,j]) - min_j)\n",
    "        centroids[:,j] = min_j + range_j * np.random.rand(k, 1)\n",
    "    # Return centroids as numpy array\n",
    "    return centroids"
   ]
  },
  {
   "cell_type": "markdown",
   "metadata": {},
   "source": [
    "## Measuring Distances with Standard Euclidean Dustance "
   ]
  },
  {
   "cell_type": "code",
   "execution_count": 2,
   "metadata": {},
   "outputs": [],
   "source": [
    "import math\n",
    "def euclidean_dist(A, B):   \n",
    "    '''\n",
    "    Calculate Euclidean distance between 2 n-dimension points\n",
    "    \n",
    "    Parameters:\n",
    "    -----------\n",
    "    A: ndarray\n",
    "        vector of point coordinates to compare\n",
    "    B: ndarray\n",
    "        vector of point coordinates to compare\n",
    "    Returns:\n",
    "    --------\n",
    "    float\n",
    "        calculated Euclidean distance of the 2 vectors\n",
    "    '''\n",
    "    dist = (A - B)\n",
    "    dlist = dist.tolist()[0]   \n",
    "    squared_distance = 0\n",
    "    #Assuming correct input to the function where the lengths of two features are the same\n",
    "    for i in range(len(dlist)):\n",
    "            squared_distance += (dlist[i])**2\n",
    "    ed = squared_distance**0.5\n",
    "    return ed;    "
   ]
  },
  {
   "cell_type": "markdown",
   "metadata": {},
   "source": [
    "## Clustering Distance"
   ]
  },
  {
   "cell_type": "code",
   "execution_count": 3,
   "metadata": {},
   "outputs": [],
   "source": [
    " '''\n",
    "    The k-means clustering algorithm   \n",
    "    Parameters:\n",
    "    -----------\n",
    "    ds: ndarray\n",
    "        Dataset to cluster instances from\n",
    "    k: int\n",
    "        The number of clusters\n",
    "    Returns:\n",
    "    --------\n",
    "    ndarray\n",
    "        Resulting centroids after clustering\n",
    "    ndarray\n",
    "        Cluster assignments after clustering\n",
    "    int\n",
    "        Number of iterations required by clustering algorithm\n",
    "    ndarray\n",
    "        Original centroids\n",
    "    '''\n",
    "import numpy as np\n",
    "def cluster(ds, k):\n",
    "    # Number of rows in dataset\n",
    "    m = np.shape(ds)[0]\n",
    "    # Hold the instance cluster assignments\n",
    "    cluster_assignments = np.mat(np.zeros((m, 2)))\n",
    "    # Initialize centroids\n",
    "    cents = initialize(ds, k)   \n",
    "    # Preserve original centroids\n",
    "    cents_orig = cents.copy()   \n",
    "    changed = True\n",
    "    num_iter = 0\n",
    "    # Loop until no changes to cluster assignments\n",
    "    while changed:\n",
    "        changed = False\n",
    "        # For every instance (row in dataset)\n",
    "        for i in range(m):\n",
    "            # Track minimum distance, and vector index of associated cluster\n",
    "            min_dist = np.inf\n",
    "            min_index = -1\n",
    "            # Calculate distances\n",
    "            for j in range(k):\n",
    "                dist_ji = euclidean_dist(cents[j,:], ds[i,:])\n",
    "                if dist_ji < min_dist:\n",
    "                    min_dist = dist_ji\n",
    "                    min_index = j\n",
    "            # Check if cluster assignment of instance has changed\n",
    "            if cluster_assignments[i, 0] != min_index: \n",
    "                changed = True\n",
    "            # Assign instance to appropriate cluster\n",
    "            cluster_assignments[i, :] = min_index, min_dist**2\n",
    "        # Update centroid location\n",
    "        for cent in range(k):\n",
    "            points = ds[np.nonzero(cluster_assignments[:,0].A==cent)[0]]\n",
    "            cents[cent,:] = np.mean(points, axis=0)\n",
    "        # Count iterations\n",
    "        num_iter += 1\n",
    "    # Return important stuff when done\n",
    "    return cents, cluster_assignments, num_iter, cents_orig"
   ]
  },
  {
   "cell_type": "markdown",
   "metadata": {},
   "source": [
    "## Testing the Implemented k-Means Clustering Algorithm with TwoDimHard Dataset"
   ]
  },
  {
   "cell_type": "code",
   "execution_count": 4,
   "metadata": {},
   "outputs": [],
   "source": [
    "import pandas as pd\n",
    "\n",
    "#Load dataset\n",
    "ds = pd.read_csv('/Users/yawenhan/Documents/Python/TwoDimHard.csv')"
   ]
  },
  {
   "cell_type": "code",
   "execution_count": 5,
   "metadata": {},
   "outputs": [],
   "source": [
    "ds_cluster=ds[['X.1','X.2']]\n",
    "ds_assignments=ds[['cluster']].as_matrix()"
   ]
  },
  {
   "cell_type": "code",
   "execution_count": 6,
   "metadata": {},
   "outputs": [
    {
     "name": "stdout",
     "output_type": "stream",
     "text": [
      "              X.1         X.2\n",
      "count  400.000000  400.000000\n",
      "mean     0.543370    0.551230\n",
      "std      0.185391    0.197673\n",
      "min      0.204043    0.020444\n",
      "25%      0.369848    0.392325\n",
      "50%      0.548462    0.561653\n",
      "75%      0.684134    0.731155\n",
      "max      1.037393    0.883700\n"
     ]
    }
   ],
   "source": [
    "print(ds_cluster.describe())"
   ]
  },
  {
   "cell_type": "code",
   "execution_count": 7,
   "metadata": {},
   "outputs": [],
   "source": [
    "# Convert dataset to matrix representation\n",
    "ds_matrix = ds_cluster.as_matrix()"
   ]
  },
  {
   "cell_type": "code",
   "execution_count": 8,
   "metadata": {},
   "outputs": [
    {
     "data": {
      "image/png": "[encoded data removed]",
      "text/plain": [
       "<matplotlib.figure.Figure at 0x1143368d0>"
      ]
     },
     "metadata": {},
     "output_type": "display_data"
    }
   ],
   "source": [
    "import matplotlib.pyplot as plt\n",
    "fig, ax = plt.subplots()\n",
    "for i in range(4):\n",
    "    points = np.array([ds_matrix[j] for j in range(len(ds_matrix)) if ds_assignments[j] == i+1])\n",
    "    ax.scatter(points[:, 0], points[:, 1], c='b')\n",
    "plt.ylabel(\"X2\")\n",
    "plt.xlabel(\"X1\")\n",
    "plt.title('Scatterplot of dataset')\n",
    "display(fig)"
   ]
  },
  {
   "cell_type": "code",
   "execution_count": 9,
   "metadata": {
    "scrolled": true
   },
   "outputs": [
    {
     "name": "stdout",
     "output_type": "stream",
     "text": [
      "For cluster 1: size is 89, SSE is 0.312847718218\n",
      "For cluster 2: size is 100, SSE is 0.90253361492\n",
      "For cluster 3: size is 97, SSE is 2.43011871857\n",
      "For cluster 4: size is 114, SSE is 1.91071546593\n",
      "Overall SSE is 5.55621551764\n",
      "SSB is 23.7481256186\n"
     ]
    }
   ],
   "source": [
    "original_sse = []\n",
    "origial_centroids = []\n",
    "original_count = []\n",
    "for i in range(4):\n",
    "    # Find all the records in cluster i\n",
    "    cluster_i = np.array([ds_matrix[j] for j in range(len(ds_matrix)) if ds_assignments[j] == i+1])\n",
    "    # Centroid of cluster i\n",
    "    mean_i = np.mean(cluster_i,axis=0)\n",
    "    count_i = len(cluster_i)\n",
    "    origial_centroids.append(mean_i)\n",
    "    original_count.append(count_i)\n",
    "    # Find SSE \n",
    "    sse_i = 0\n",
    "    for m in range(len(ds_matrix)):\n",
    "        if ds_assignments[m] == i+1:\n",
    "            diff = mean_i-ds_matrix[m]\n",
    "            sse_i += diff[0]**2+diff[1]**2 \n",
    "    original_sse.append(sse_i)\n",
    "    print 'For cluster {}: size is {}, SSE is {}'.format(i+1,count_i,sse_i)\n",
    "print 'Overall SSE is {}'.format(np.sum(original_sse))    \n",
    "# Find overall centroid\n",
    "overall_centroids = ds_mean = np.mean(ds_cluster).tolist()\n",
    "original_ssb = 0\n",
    "for i in range(4):\n",
    "    cent = origial_centroids[i]\n",
    "    diff = cent-overall_centroids\n",
    "    original_ssb += original_count[i]*(diff[0]**2+diff[1]**2)\n",
    "print 'SSB is {}'.format(original_ssb)    \n",
    "    "
   ]
  },
  {
   "cell_type": "code",
   "execution_count": 10,
   "metadata": {},
   "outputs": [
    {
     "data": {
      "image/png": "[encoded data removed]",
      "text/plain": [
       "<matplotlib.figure.Figure at 0x115021f10>"
      ]
     },
     "metadata": {},
     "output_type": "display_data"
    }
   ],
   "source": [
    "\n",
    "colors = ['r', 'g', 'b', 'y', 'c', 'm']\n",
    "fig, ax = plt.subplots()\n",
    "for i in range(4):\n",
    "    points = np.array([ds_matrix[j] for j in range(len(ds_matrix)) if ds_assignments[j] == i+1])\n",
    "    ax.scatter(points[:, 0], points[:, 1], c=colors[i])\n",
    "ax.scatter(np.array(origial_centroids)[:,0], np.array(origial_centroids)[:,1], marker='*', c='#050505')\n",
    "plt.ylabel(\"X2\")\n",
    "plt.xlabel(\"X1\")\n",
    "plt.title('Scatterplot of true clusters')\n",
    "display(fig)"
   ]
  },
  {
   "cell_type": "markdown",
   "metadata": {},
   "source": [
    "## K=4"
   ]
  },
  {
   "cell_type": "code",
   "execution_count": 11,
   "metadata": {},
   "outputs": [
    {
     "name": "stdout",
     "output_type": "stream",
     "text": [
      "Number of iterations: 12\n",
      "\n",
      "Final centroids:\n",
      "[[ 0.59580368  0.69767513]\n",
      " [ 0.77289734  0.41198897]\n",
      " [ 0.44101165  0.32613108]\n",
      " [ 0.32221294  0.75482519]]\n",
      "\n",
      "Cluster membership and error of first 10 instances:\n",
      "[[  3.00000000e+00   3.58531975e-03]\n",
      " [  3.00000000e+00   2.42319495e-03]\n",
      " [  3.00000000e+00   8.88583991e-03]\n",
      " [  3.00000000e+00   5.15103950e-04]\n",
      " [  3.00000000e+00   9.43396221e-04]\n",
      " [  3.00000000e+00   1.48302709e-02]\n",
      " [  3.00000000e+00   1.62469240e-03]\n",
      " [  3.00000000e+00   1.30947717e-03]\n",
      " [  3.00000000e+00   7.65308909e-03]\n",
      " [  3.00000000e+00   1.52251213e-03]]\n",
      "\n",
      "Original centroids:\n",
      "[[ 0.77961103  0.55519721]\n",
      " [ 0.6746227   0.28652773]\n",
      " [ 0.27445757  0.08814409]\n",
      " [ 0.78371687  0.8052924 ]]\n"
     ]
    }
   ],
   "source": [
    "# Total cluster number\n",
    "k=4\n",
    "# Perform k-means clustering\n",
    "[centroids, cluster_assignments, iters, orig_centroids]=cluster(ds_matrix, k)\n",
    "# Output results\n",
    "print 'Number of iterations:', iters\n",
    "print '\\nFinal centroids:\\n', centroids\n",
    "print '\\nCluster membership and error of first 10 instances:\\n', cluster_assignments[:10]\n",
    "print '\\nOriginal centroids:\\n', orig_centroids"
   ]
  },
  {
   "cell_type": "code",
   "execution_count": 12,
   "metadata": {},
   "outputs": [
    {
     "name": "stdout",
     "output_type": "stream",
     "text": [
      "   ID  OutputCluster\n",
      "0   1            3.0\n",
      "1   2            3.0\n",
      "2   3            3.0\n",
      "3   4            3.0\n",
      "4   5            3.0\n",
      "5   6            3.0\n",
      "6   7            3.0\n",
      "7   8            3.0\n",
      "8   9            3.0\n",
      "9  10            3.0\n"
     ]
    }
   ],
   "source": [
    "# Output the row ID and the cluster that each record belongs to\n",
    "output = ds['ID']\n",
    "output.columns = ['ID','OutputCluster']\n",
    "output=pd.DataFrame(output)\n",
    "cluster_assignments_list = cluster_assignments.tolist()\n",
    "a =[]\n",
    "for i in range(len(cluster_assignments_list)):\n",
    "    a.append(cluster_assignments_list[i][0])   \n",
    "output['OutputCluster'] = a\n",
    "print(output.head(10))"
   ]
  },
  {
   "cell_type": "code",
   "execution_count": 13,
   "metadata": {},
   "outputs": [],
   "source": [
    "def sse(cluster_assignment_list, num):\n",
    "\n",
    "    '''\n",
    "    Compute SSE for the given cluster number\n",
    "    \n",
    "    Parameters:\n",
    "    -----------\n",
    "    cluster_assignment: list about cluster assignment after clustering\n",
    "        Dataset to cluster instances from\n",
    "    cluster_num: int\n",
    "        The number of clusters\n",
    "    Returns:\n",
    "    --------\n",
    "    count\n",
    "        Size of the cluster\n",
    "    SSE\n",
    "        Sum of squares of the cluster       \n",
    "    '''\n",
    "    # Compute SSE and size for each cluster\n",
    "    count = 0\n",
    "    SSE = 0\n",
    "    for i in range(len(cluster_assignments_list)):\n",
    "        \n",
    "        cluster_num = cluster_assignments_list[i][0]\n",
    "        distance_square = cluster_assignments_list[i][1]\n",
    "        # Add the SSE and count if the cluster number is the given one\n",
    "        if cluster_num == num:\n",
    "            count = count + 1\n",
    "            SSE += distance_square\n",
    "    return count, SSE\n",
    "      "
   ]
  },
  {
   "cell_type": "code",
   "execution_count": 14,
   "metadata": {},
   "outputs": [],
   "source": [
    "def cluster_output(cluster_assignment_list, ds_cluster):\n",
    "    cluster_size = []\n",
    "    cluster_sse = []\n",
    "    overall_sse = 0\n",
    "    # Find SSE for each cluster\n",
    "    for i in range(k):\n",
    "        [count, SSE] = sse(cluster_assignments_list,i)\n",
    "        cluster_size.append(count)\n",
    "        cluster_sse.append(SSE)\n",
    "        overall_sse += SSE\n",
    "        print 'For cluster {}: size is {}, SSE is {}'.format(i,count,SSE)\n",
    "    print 'Overall SSE is {}'.format(overall_sse)\n",
    "    # Find the overall centroid\n",
    "    ds_mean = np.mean(ds_cluster).tolist()\n",
    "    # Find SSB for each cluster\n",
    "    ssb = 0\n",
    "    for i in range(k):\n",
    "        cent = centroids[i]\n",
    "        ssb += cluster_size[i]*(euclidean_dist(cent,ds_mean)**2)\n",
    "    print 'SSB is {}'.format(ssb)\n"
   ]
  },
  {
   "cell_type": "code",
   "execution_count": 15,
   "metadata": {},
   "outputs": [
    {
     "name": "stdout",
     "output_type": "stream",
     "text": [
      "For cluster 0: size is 108, SSE is 1.07648508781\n",
      "For cluster 1: size is 107, SSE is 1.47053419455\n",
      "For cluster 2: size is 90, SSE is 1.8446030118\n",
      "For cluster 3: size is 95, SSE is 0.500480575274\n",
      "Overall SSE is 4.89210286944\n",
      "SSB is 24.4122382668\n"
     ]
    }
   ],
   "source": [
    "cluster_output(cluster_assignments_list, ds_cluster)"
   ]
  },
  {
   "cell_type": "code",
   "execution_count": 16,
   "metadata": {},
   "outputs": [
    {
     "name": "stdout",
     "output_type": "stream",
     "text": [
      "                 Pred cluster1  Pred cluster2  Pred cluster3  Pred cluster4  \\\n",
      "Actual cluster1              0              0              0             89   \n",
      "Actual cluster2             98              0              0              2   \n",
      "Actual cluster3              2              3             88              4   \n",
      "Actual cluster4              8            104              2              0   \n",
      "Total                      108            107             90             95   \n",
      "\n",
      "                 Total  \n",
      "Actual cluster1     89  \n",
      "Actual cluster2    100  \n",
      "Actual cluster3     97  \n",
      "Actual cluster4    114  \n",
      "Total              400  \n"
     ]
    }
   ],
   "source": [
    "from sklearn.metrics import confusion_matrix\n",
    "# Keep the cluster number for actual consistent with cluster number for predicted\n",
    "new_a = [x+1 for x in a]\n",
    "# Find the confusion matrix for clusters with k=4\n",
    "cm = confusion_matrix(ds_assignments.tolist(), new_a)\n",
    "cm=  pd.DataFrame(cm)\n",
    "cm.columns = ['Pred cluster1','Pred cluster2','Pred cluster3','Pred cluster4']\n",
    "cm.index = ['Actual cluster1','Actual cluster2','Actual cluster3','Actual cluster4']\n",
    "# Total of the columns\n",
    "cm['Total'] = cm.sum(axis=1)\n",
    "# Total of rows\n",
    "total = cm.apply(np.sum)\n",
    "cm.loc['Total']= cm.sum()\n",
    "print(cm)"
   ]
  },
  {
   "cell_type": "code",
   "execution_count": 17,
   "metadata": {},
   "outputs": [
    {
     "data": {
      "image/png": "[encoded data removed]",
      "text/plain": [
       "<matplotlib.figure.Figure at 0x1a1eee1090>"
      ]
     },
     "metadata": {},
     "output_type": "display_data"
    }
   ],
   "source": [
    "# Plot Scatter diagram\n",
    "import matplotlib.pyplot as plt\n",
    "colors = ['r', 'g', 'b', 'y', 'c', 'm']\n",
    "fig, ax = plt.subplots()\n",
    "for i in range(k):\n",
    "    points = np.array([ds_matrix[j] for j in range(len(ds_matrix)) if cluster_assignments_list[j][0] == i])\n",
    "    ax.scatter(points[:, 0], points[:, 1], c=colors[i])\n",
    "ax.scatter(centroids[:, 0].tolist(), centroids[:, 1].tolist(), marker='*', c='#050505')\n",
    "plt.ylabel(\"X2\")\n",
    "plt.xlabel(\"X1\")\n",
    "plt.title('Scatterplot of clusters produced by k-Means with k=4')\n",
    "display(fig)"
   ]
  },
  {
   "cell_type": "markdown",
   "metadata": {},
   "source": [
    "## k=3"
   ]
  },
  {
   "cell_type": "code",
   "execution_count": 18,
   "metadata": {},
   "outputs": [
    {
     "name": "stdout",
     "output_type": "stream",
     "text": [
      "Number of iterations: 6\n",
      "\n",
      "Final centroids:\n",
      "[[ 0.61153755  0.35336475]\n",
      " [ 0.33140588  0.74424529]\n",
      " [ 0.62942836  0.67089446]]\n",
      "\n",
      "Cluster membership and error of first 10 instances:\n",
      "[[  1.00000000e+00   5.44201183e-03]\n",
      " [  1.00000000e+00   3.08193976e-03]\n",
      " [  1.00000000e+00   1.14797796e-02]\n",
      " [  1.00000000e+00   9.20094791e-04]\n",
      " [  1.00000000e+00   3.07573931e-04]\n",
      " [  1.00000000e+00   1.28998659e-02]\n",
      " [  1.00000000e+00   7.72375415e-04]\n",
      " [  1.00000000e+00   1.14830552e-03]\n",
      " [  1.00000000e+00   9.64753765e-03]\n",
      " [  1.00000000e+00   1.30942634e-03]]\n",
      "\n",
      "Original centroids:\n",
      "[[ 0.72765219  0.36260193]\n",
      " [ 0.44311287  0.64999376]\n",
      " [ 0.66984906  0.55885841]]\n"
     ]
    }
   ],
   "source": [
    "# Total cluster number\n",
    "k=3\n",
    "# Perform k-means clustering\n",
    "[centroids, cluster_assignments, iters, orig_centroids]=cluster(ds_matrix, k)\n",
    "# Output results\n",
    "print 'Number of iterations:', iters\n",
    "print '\\nFinal centroids:\\n', centroids\n",
    "print '\\nCluster membership and error of first 10 instances:\\n', cluster_assignments[:10]\n",
    "print '\\nOriginal centroids:\\n', orig_centroids"
   ]
  },
  {
   "cell_type": "code",
   "execution_count": 19,
   "metadata": {},
   "outputs": [
    {
     "name": "stdout",
     "output_type": "stream",
     "text": [
      "   ID  OutputCluster\n",
      "0   1            1.0\n",
      "1   2            1.0\n",
      "2   3            1.0\n",
      "3   4            1.0\n",
      "4   5            1.0\n",
      "5   6            1.0\n",
      "6   7            1.0\n",
      "7   8            1.0\n",
      "8   9            1.0\n",
      "9  10            1.0\n"
     ]
    }
   ],
   "source": [
    "# Output the row ID and the cluster that each record belongs to\n",
    "output = ds['ID']\n",
    "output.columns = ['ID','OutputCluster']\n",
    "output=pd.DataFrame(output)\n",
    "cluster_assignments_list = cluster_assignments.tolist()\n",
    "a=[]\n",
    "for i in range(len(cluster_assignments_list)):\n",
    "    a.append(cluster_assignments_list[i][0])\n",
    "    \n",
    "output['OutputCluster'] = a\n",
    "print(output.head(10))"
   ]
  },
  {
   "cell_type": "code",
   "execution_count": 20,
   "metadata": {},
   "outputs": [
    {
     "name": "stdout",
     "output_type": "stream",
     "text": [
      "For cluster 0: size is 175, SSE is 7.56330722808\n",
      "For cluster 1: size is 105, SSE is 0.973849641249\n",
      "For cluster 2: size is 120, SSE is 1.86626432878\n",
      "Overall SSE is 10.4034211981\n",
      "SSB is 18.9009199382\n"
     ]
    }
   ],
   "source": [
    "cluster_output(cluster_assignments_list, ds_cluster)"
   ]
  },
  {
   "cell_type": "code",
   "execution_count": 21,
   "metadata": {},
   "outputs": [
    {
     "name": "stdout",
     "output_type": "stream",
     "text": [
      "                 Pred cluster1  Pred cluster2  Pred cluster3  Total\n",
      "Actual cluster1              0             89              0     89\n",
      "Actual cluster2              0              8             92    100\n",
      "Actual cluster3             86              8              3     97\n",
      "Actual cluster4             89              0             25    114\n",
      "Total                      175            105            120    400\n"
     ]
    }
   ],
   "source": [
    "# Keep the cluster number for actual consistent with cluster number for predicted\n",
    "new_a = [x+1 for x in a]\n",
    "# Find the confusion matrix for clusters with k=3\n",
    "cm = confusion_matrix(ds_assignments.tolist(), new_a)\n",
    "cm=  pd.DataFrame(cm)\n",
    "cm.columns = ['Pred cluster1','Pred cluster2','Pred cluster3','Pred cluster4']\n",
    "cm.index = ['Actual cluster1','Actual cluster2','Actual cluster3','Actual cluster4']\n",
    "# Total of the columns\n",
    "cm['Total'] = cm.sum(axis=1)\n",
    "# Total of rows\n",
    "total = cm.apply(np.sum)\n",
    "cm.loc['Total']= cm.sum()\n",
    "print(cm[['Pred cluster1','Pred cluster2','Pred cluster3','Total']])"
   ]
  },
  {
   "cell_type": "code",
   "execution_count": 22,
   "metadata": {},
   "outputs": [
    {
     "data": {
      "image/png": "[encoded data removed]",
      "text/plain": [
       "<matplotlib.figure.Figure at 0x1a1ef77190>"
      ]
     },
     "metadata": {},
     "output_type": "display_data"
    }
   ],
   "source": [
    "# Plot Scatter Diagram\n",
    "colors = ['r', 'g', 'b', 'y', 'c', 'm']\n",
    "fig, ax = plt.subplots()\n",
    "for i in range(k):\n",
    "    points = np.array([ds_matrix[j] for j in range(len(ds_matrix)) if cluster_assignments_list[j][0] == i])\n",
    "    ax.scatter(points[:, 0], points[:, 1], c=colors[i])\n",
    "ax.scatter(centroids[:, 0].tolist(), centroids[:, 1].tolist(), marker='*', c='#050505')\n",
    "plt.ylabel(\"X2\")\n",
    "plt.xlabel(\"X1\")\n",
    "plt.title('Scatterplot of clusters produced by k-Means with k=3')\n",
    "display(fig)"
   ]
  }
 ],
 "metadata": {
  "kernelspec": {
   "display_name": "Python 3",
   "language": "python",
   "name": "python3"
  },
  "language_info": {
   "codemirror_mode": {
    "name": "ipython",
    "version": 3
   },
   "file_extension": ".py",
   "mimetype": "text/x-python",
   "name": "python",
   "nbconvert_exporter": "python",
   "pygments_lexer": "ipython3",
   "version": "3.6.5"
  }
 },
 "nbformat": 4,
 "nbformat_minor": 2
}
